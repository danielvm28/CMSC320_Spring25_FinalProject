{
 "cells": [
  {
   "cell_type": "markdown",
   "metadata": {},
   "source": [
    "imports the data set and does a really simple reformatting accross it to remove \\\\N with pd.NA"
   ]
  },
  {
   "cell_type": "code",
   "execution_count": 5,
   "metadata": {},
   "outputs": [],
   "source": [
    "import pandas as pd\n",
    "import numpy as np\n",
    "import matplotlib.pyplot as mtpl\n",
    "\n",
    "circ = pd.read_csv('data_bases/circuits.csv')\n",
    "constr_re = pd.read_csv('data_bases/constructor_results.csv')\n",
    "constr_std = pd.read_csv('data_bases/constructor_standings.csv')\n",
    "constr = pd.read_csv('data_bases/constructors.csv')\n",
    "driver = pd.read_csv('data_bases/drivers.csv')\n",
    "driver_std = pd.read_csv('data_bases/driver_standings.csv')\n",
    "lap_times = pd.read_csv('data_bases/lap_times.csv')\n",
    "pit_stops = pd.read_csv('data_bases/pit_stops.csv')\n",
    "qualifying = pd.read_csv('data_bases/qualifying.csv')\n",
    "races = pd.read_csv('data_bases/races.csv')\n",
    "results = pd.read_csv('data_bases/results.csv')\n",
    "sprint_results = pd.read_csv('data_bases/sprint_results.csv')\n",
    "status = pd.read_csv('data_bases/status.csv')\n",
    "\n",
    "data_bases = [circ, constr, constr_re, constr_std, driver, driver_std, lap_times, pit_stops, qualifying, races, results, sprint_results, status]\n",
    "\n",
    "def help_format(x):\n",
    "    if x == '\\\\N':\n",
    "        return pd.NA\n",
    "    else:\n",
    "        return x\n",
    "\n",
    "for i in data_bases:\n",
    "    i.map(lambda x: help_format(x))"
   ]
  }
 ],
 "metadata": {
  "kernelspec": {
   "display_name": "Python 3",
   "language": "python",
   "name": "python3"
  },
  "language_info": {
   "codemirror_mode": {
    "name": "ipython",
    "version": 3
   },
   "file_extension": ".py",
   "mimetype": "text/x-python",
   "name": "python",
   "nbconvert_exporter": "python",
   "pygments_lexer": "ipython3",
   "version": "3.10.12"
  }
 },
 "nbformat": 4,
 "nbformat_minor": 2
}
